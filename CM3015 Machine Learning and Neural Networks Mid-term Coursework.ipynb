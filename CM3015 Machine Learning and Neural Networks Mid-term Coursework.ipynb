{
 "cells": [
  {
   "cell_type": "markdown",
   "metadata": {},
   "source": [
    "# CM3015 Machine Learning and Neural Networks Mid-term Coursework "
   ]
  },
  {
   "cell_type": "markdown",
   "metadata": {},
   "source": [
    "# 1. Abstract"
   ]
  },
  {
   "cell_type": "markdown",
   "metadata": {},
   "source": [
    "<b>The aim of this project is to determine the optimal classification model among K-Nearest Neighbors (kNN), Decision Tree, and Naive Bayes for scikit-learn Wine dataset.</b> The study involves assessing the performance of each algorithm using metrics such as confusion matrices and cross-validation with F1 scores. Additionally, this project aims to compare the algorithms across diverse datasets, examining variations within a particular algorithm (i.e. PCA initialization), and comparing different algorithms on the same dataset. By focusing on classification models and leveraging comprehensive evaluation techniques, the project seeks to provide insights into the strengths and weaknesses of these algorithms, aiding in informed decision-making for classification tasks."
   ]
  },
  {
   "cell_type": "markdown",
   "metadata": {},
   "source": [
    "# 2. Introduction"
   ]
  },
  {
   "cell_type": "markdown",
   "metadata": {},
   "source": [
    "The dataset at the heart of this project is the renowned Wine dataset, readily available in scikit-learn. This dataset encapsulates a rich array of attributes related to the chemical composition of wines, with each instance belonging to one of three classes representing different wine cultivars. While the Wine dataset serves as an invaluable resource for exploring classification algorithms, it is not without its challenges. Notably, one may encounter issues such as class imbalance, potential outliers, or the need for feature scaling. Moreover, prior investigations into this dataset have primarily focused on its application in classification tasks, with a notable emphasis on discerning the characteristics that differentiate the wine classes. By navigating these challenges and building upon existing research, this project aims to provide a nuanced understanding of the dataset's intricacies and contribute novel insights into the performance of classification algorithms in the context of wine cultivar prediction."
   ]
  },
  {
   "cell_type": "markdown",
   "metadata": {},
   "source": [
    "# 3. Background"
   ]
  },
  {
   "cell_type": "markdown",
   "metadata": {},
   "source": [
    "In this project, 3 fundamental classification algorithms — <b> K-Nearest Neighbors (kNN), Decision Tree, and Naive Bayes </b>— have been employed to predict the wine cultivar classes within the scikit-learn Wine dataset.\n",
    "\n",
    "<ol><li> <b>K-Nearest Neighbors (kNN):</b> kNN is an intuitive algorithm based on the principle of similarity. It classifies an unknown instance by examining the majority class among its k-nearest neighbors in the feature space. kNN calculates distances between data points using either Euclidean principle or Manhattan principle. Given that the wine dataset is relatively small, it will reduce the computational burden for kNN as it compares the query point to fewer neighbors. A smaller dataset is also beneficial for kNN as each data point has a greater impact on the decision boundaries, potentially leading to more accurate predictions since kNN tends to be sensitive to noisy data. <i>[1]</i><br\\><br\\> To find the optimal model for kNN, the hyper-parameter(i.e. k) has to be found so that the cross validation accuracy (i.e. F1 score) will be the highest. The hyper-parameter, k, cannot be too small as the model will be overfitting. While on the other hand, if k is large then model is underfitting. Hyper-parameter, k, has to be highest average cross validation score which will make it the right model, which is neither underfitting nor overfitting.</li><br\\><li> <b>Decision Tree:</b> Decision trees are hierarchical structures that recursively split the dataset based on the most informative features. These splits form a tree-like structure, enabling the algorithm to make decisions by traversing the branches. The reason of choosing Decision Tree as the 2<sup>nd</sup> machine learning algorithm is because, the wine dataset is small. With a smaller dataset, Decision Tree algorithm trains computationally faster as it has to evaluate fewer data points and features during the training process. <br\\><br\\> To find the optimal model for Decision Tree, the hyper-paramters(i.e. max_depth and min_sample_split) cannot be too small or too large. In a case where the max_depth is too small, model will underfit and max_depth being too larger will lead to overfitting. While a small min_sample_split make model overfit and a large min_sample_split will lead to underfitting of model.</li><br\\><li> <b>Naive Bayes:</b> Naive Bayes is a probabilistic algorithm grounded in Bayes' theorem. It assumes independence between features, leading to a simplified model. Despite its naive assumptions, Naive Bayes often performs well and is particularly suitable for high-dimensional datasets. The reason for the choice of Naive Bayes is because it does not need a hyper-parameter to achieve an optimal model. It is also highly scalable with the number of predictors and data points and does not require much training data. <i>[2]</i></li></ol>\n",
    "\n",
    "\n",
    "Understanding the inner workings of these algorithms involves grasping their distinctive approaches to classification. kNN relies on distance metrics to find the nearest neighbors, Decision Trees make decisions through a series of feature-based splits, and Naive Bayes calculates probabilities based on the assumed independence of features. Throughout the project, these algorithms are applied, fine-tuned, and rigorously evaluated to discern their performance nuances in predicting wine cultivar classes."
   ]
  },
  {
   "cell_type": "markdown",
   "metadata": {},
   "source": [
    "# 4. Methodology"
   ]
  },
  {
   "cell_type": "markdown",
   "metadata": {},
   "source": [
    "<h2> 4.1 Importing necessary packages and libraries</h2>"
   ]
  },
  {
   "cell_type": "code",
   "execution_count": 1,
   "metadata": {},
   "outputs": [
    {
     "name": "stdout",
     "output_type": "stream",
     "text": [
      "Requirement already satisfied: seaborn in /opt/conda/lib/python3.7/site-packages (0.10.1)\n",
      "Requirement already satisfied: pandas>=0.22.0 in /opt/conda/lib/python3.7/site-packages (from seaborn) (1.0.3)\n",
      "Requirement already satisfied: matplotlib>=2.1.2 in /opt/conda/lib/python3.7/site-packages (from seaborn) (3.2.1)\n",
      "Requirement already satisfied: scipy>=1.0.1 in /opt/conda/lib/python3.7/site-packages (from seaborn) (1.4.1)\n",
      "Requirement already satisfied: numpy>=1.13.3 in /opt/conda/lib/python3.7/site-packages (from seaborn) (1.18.4)\n",
      "Requirement already satisfied: python-dateutil>=2.6.1 in /opt/conda/lib/python3.7/site-packages (from pandas>=0.22.0->seaborn) (2.8.1)\n",
      "Requirement already satisfied: pytz>=2017.2 in /opt/conda/lib/python3.7/site-packages (from pandas>=0.22.0->seaborn) (2020.1)\n",
      "Requirement already satisfied: cycler>=0.10 in /opt/conda/lib/python3.7/site-packages (from matplotlib>=2.1.2->seaborn) (0.10.0)\n",
      "Requirement already satisfied: kiwisolver>=1.0.1 in /opt/conda/lib/python3.7/site-packages (from matplotlib>=2.1.2->seaborn) (1.2.0)\n",
      "Requirement already satisfied: pyparsing!=2.0.4,!=2.1.2,!=2.1.6,>=2.0.1 in /opt/conda/lib/python3.7/site-packages (from matplotlib>=2.1.2->seaborn) (2.4.7)\n",
      "Requirement already satisfied: six>=1.5 in /opt/conda/lib/python3.7/site-packages (from python-dateutil>=2.6.1->pandas>=0.22.0->seaborn) (1.14.0)\n",
      "Note: you may need to restart the kernel to use updated packages.\n"
     ]
    }
   ],
   "source": [
    "pip install seaborn"
   ]
  },
  {
   "cell_type": "code",
   "execution_count": 2,
   "metadata": {},
   "outputs": [
    {
     "name": "stdout",
     "output_type": "stream",
     "text": [
      "Requirement already satisfied: PrettyTable in /opt/conda/lib/python3.7/site-packages (3.7.0)\n",
      "Requirement already satisfied: wcwidth in /opt/conda/lib/python3.7/site-packages (from PrettyTable) (0.1.9)\n",
      "Requirement already satisfied: importlib-metadata; python_version < \"3.8\" in /opt/conda/lib/python3.7/site-packages (from PrettyTable) (1.6.0)\n",
      "Requirement already satisfied: zipp>=0.5 in /opt/conda/lib/python3.7/site-packages (from importlib-metadata; python_version < \"3.8\"->PrettyTable) (3.1.0)\n",
      "Note: you may need to restart the kernel to use updated packages.\n"
     ]
    }
   ],
   "source": [
    "pip install PrettyTable"
   ]
  },
  {
   "cell_type": "code",
   "execution_count": 3,
   "metadata": {},
   "outputs": [
    {
     "name": "stdout",
     "output_type": "stream",
     "text": [
      "Requirement already satisfied: tabulate in /opt/conda/lib/python3.7/site-packages (0.9.0)\n",
      "Note: you may need to restart the kernel to use updated packages.\n"
     ]
    }
   ],
   "source": [
    "pip install tabulate"
   ]
  },
  {
   "cell_type": "code",
   "execution_count": 4,
   "metadata": {},
   "outputs": [],
   "source": [
    "#importing necessary libraries\n",
    "import numpy as np\n",
    "import pandas as pd\n",
    "import matplotlib.pyplot as plt \n",
    "import seaborn as sns\n",
    "import sklearn.metrics as metrics\n",
    "\n",
    "from sklearn import datasets, naive_bayes\n",
    "from collections import Counter\n",
    "from sklearn.model_selection import train_test_split, KFold, GridSearchCV\n",
    "from sklearn.preprocessing import StandardScaler\n",
    "from sklearn.metrics import precision_score, recall_score, f1_score, confusion_matrix\n",
    "from sklearn.tree import DecisionTreeClassifier\n",
    "from prettytable import PrettyTable\n",
    "from sklearn.decomposition import PCA\n",
    "\n",
    "\n",
    "%matplotlib inline"
   ]
  },
  {
   "cell_type": "markdown",
   "metadata": {},
   "source": [
    "<h2> 4.2 Loading Dataset </h2>"
   ]
  },
  {
   "cell_type": "code",
   "execution_count": 5,
   "metadata": {},
   "outputs": [],
   "source": [
    "# load data\n",
    "wine=datasets.load_wine()\n",
    "#print(wine.DESCR)"
   ]
  },
  {
   "cell_type": "markdown",
   "metadata": {},
   "source": [
    "<h2> 4.3 Exploratory Data Analysis </h2>"
   ]
  },
  {
   "cell_type": "code",
   "execution_count": 6,
   "metadata": {},
   "outputs": [
    {
     "data": {
      "text/html": [
       "<div>\n",
       "<style scoped>\n",
       "    .dataframe tbody tr th:only-of-type {\n",
       "        vertical-align: middle;\n",
       "    }\n",
       "\n",
       "    .dataframe tbody tr th {\n",
       "        vertical-align: top;\n",
       "    }\n",
       "\n",
       "    .dataframe thead th {\n",
       "        text-align: right;\n",
       "    }\n",
       "</style>\n",
       "<table border=\"1\" class=\"dataframe\">\n",
       "  <thead>\n",
       "    <tr style=\"text-align: right;\">\n",
       "      <th></th>\n",
       "      <th>alcohol</th>\n",
       "      <th>malic_acid</th>\n",
       "      <th>ash</th>\n",
       "      <th>alcalinity_of_ash</th>\n",
       "      <th>magnesium</th>\n",
       "      <th>total_phenols</th>\n",
       "      <th>flavanoids</th>\n",
       "      <th>nonflavanoid_phenols</th>\n",
       "      <th>proanthocyanins</th>\n",
       "      <th>color_intensity</th>\n",
       "      <th>hue</th>\n",
       "      <th>od280/od315_of_diluted_wines</th>\n",
       "      <th>proline</th>\n",
       "      <th>target</th>\n",
       "    </tr>\n",
       "  </thead>\n",
       "  <tbody>\n",
       "    <tr>\n",
       "      <th>0</th>\n",
       "      <td>14.23</td>\n",
       "      <td>1.71</td>\n",
       "      <td>2.43</td>\n",
       "      <td>15.6</td>\n",
       "      <td>127.0</td>\n",
       "      <td>2.80</td>\n",
       "      <td>3.06</td>\n",
       "      <td>0.28</td>\n",
       "      <td>2.29</td>\n",
       "      <td>5.64</td>\n",
       "      <td>1.04</td>\n",
       "      <td>3.92</td>\n",
       "      <td>1065.0</td>\n",
       "      <td>0</td>\n",
       "    </tr>\n",
       "    <tr>\n",
       "      <th>1</th>\n",
       "      <td>13.20</td>\n",
       "      <td>1.78</td>\n",
       "      <td>2.14</td>\n",
       "      <td>11.2</td>\n",
       "      <td>100.0</td>\n",
       "      <td>2.65</td>\n",
       "      <td>2.76</td>\n",
       "      <td>0.26</td>\n",
       "      <td>1.28</td>\n",
       "      <td>4.38</td>\n",
       "      <td>1.05</td>\n",
       "      <td>3.40</td>\n",
       "      <td>1050.0</td>\n",
       "      <td>0</td>\n",
       "    </tr>\n",
       "    <tr>\n",
       "      <th>2</th>\n",
       "      <td>13.16</td>\n",
       "      <td>2.36</td>\n",
       "      <td>2.67</td>\n",
       "      <td>18.6</td>\n",
       "      <td>101.0</td>\n",
       "      <td>2.80</td>\n",
       "      <td>3.24</td>\n",
       "      <td>0.30</td>\n",
       "      <td>2.81</td>\n",
       "      <td>5.68</td>\n",
       "      <td>1.03</td>\n",
       "      <td>3.17</td>\n",
       "      <td>1185.0</td>\n",
       "      <td>0</td>\n",
       "    </tr>\n",
       "    <tr>\n",
       "      <th>3</th>\n",
       "      <td>14.37</td>\n",
       "      <td>1.95</td>\n",
       "      <td>2.50</td>\n",
       "      <td>16.8</td>\n",
       "      <td>113.0</td>\n",
       "      <td>3.85</td>\n",
       "      <td>3.49</td>\n",
       "      <td>0.24</td>\n",
       "      <td>2.18</td>\n",
       "      <td>7.80</td>\n",
       "      <td>0.86</td>\n",
       "      <td>3.45</td>\n",
       "      <td>1480.0</td>\n",
       "      <td>0</td>\n",
       "    </tr>\n",
       "    <tr>\n",
       "      <th>4</th>\n",
       "      <td>13.24</td>\n",
       "      <td>2.59</td>\n",
       "      <td>2.87</td>\n",
       "      <td>21.0</td>\n",
       "      <td>118.0</td>\n",
       "      <td>2.80</td>\n",
       "      <td>2.69</td>\n",
       "      <td>0.39</td>\n",
       "      <td>1.82</td>\n",
       "      <td>4.32</td>\n",
       "      <td>1.04</td>\n",
       "      <td>2.93</td>\n",
       "      <td>735.0</td>\n",
       "      <td>0</td>\n",
       "    </tr>\n",
       "  </tbody>\n",
       "</table>\n",
       "</div>"
      ],
      "text/plain": [
       "   alcohol  malic_acid   ash  alcalinity_of_ash  magnesium  total_phenols  \\\n",
       "0    14.23        1.71  2.43               15.6      127.0           2.80   \n",
       "1    13.20        1.78  2.14               11.2      100.0           2.65   \n",
       "2    13.16        2.36  2.67               18.6      101.0           2.80   \n",
       "3    14.37        1.95  2.50               16.8      113.0           3.85   \n",
       "4    13.24        2.59  2.87               21.0      118.0           2.80   \n",
       "\n",
       "   flavanoids  nonflavanoid_phenols  proanthocyanins  color_intensity   hue  \\\n",
       "0        3.06                  0.28             2.29             5.64  1.04   \n",
       "1        2.76                  0.26             1.28             4.38  1.05   \n",
       "2        3.24                  0.30             2.81             5.68  1.03   \n",
       "3        3.49                  0.24             2.18             7.80  0.86   \n",
       "4        2.69                  0.39             1.82             4.32  1.04   \n",
       "\n",
       "   od280/od315_of_diluted_wines  proline  target  \n",
       "0                          3.92   1065.0       0  \n",
       "1                          3.40   1050.0       0  \n",
       "2                          3.17   1185.0       0  \n",
       "3                          3.45   1480.0       0  \n",
       "4                          2.93    735.0       0  "
      ]
     },
     "execution_count": 6,
     "metadata": {},
     "output_type": "execute_result"
    }
   ],
   "source": [
    "df = pd.DataFrame(wine.data, columns = wine.feature_names)\n",
    "df[\"target\"] = wine[\"target\"]\n",
    "df.head()"
   ]
  },
  {
   "cell_type": "code",
   "execution_count": 7,
   "metadata": {},
   "outputs": [
    {
     "data": {
      "text/plain": [
       "(178, 14)"
      ]
     },
     "execution_count": 7,
     "metadata": {},
     "output_type": "execute_result"
    }
   ],
   "source": [
    "df.shape"
   ]
  },
  {
   "cell_type": "code",
   "execution_count": 8,
   "metadata": {},
   "outputs": [
    {
     "data": {
      "text/plain": [
       "alcohol                         0\n",
       "malic_acid                      0\n",
       "ash                             0\n",
       "alcalinity_of_ash               0\n",
       "magnesium                       0\n",
       "total_phenols                   0\n",
       "flavanoids                      0\n",
       "nonflavanoid_phenols            0\n",
       "proanthocyanins                 0\n",
       "color_intensity                 0\n",
       "hue                             0\n",
       "od280/od315_of_diluted_wines    0\n",
       "proline                         0\n",
       "target                          0\n",
       "dtype: int64"
      ]
     },
     "execution_count": 8,
     "metadata": {},
     "output_type": "execute_result"
    }
   ],
   "source": [
    "df.isna().sum()"
   ]
  },
  {
   "cell_type": "code",
   "execution_count": 9,
   "metadata": {},
   "outputs": [
    {
     "data": {
      "text/html": [
       "<div>\n",
       "<style scoped>\n",
       "    .dataframe tbody tr th:only-of-type {\n",
       "        vertical-align: middle;\n",
       "    }\n",
       "\n",
       "    .dataframe tbody tr th {\n",
       "        vertical-align: top;\n",
       "    }\n",
       "\n",
       "    .dataframe thead th {\n",
       "        text-align: right;\n",
       "    }\n",
       "</style>\n",
       "<table border=\"1\" class=\"dataframe\">\n",
       "  <thead>\n",
       "    <tr style=\"text-align: right;\">\n",
       "      <th></th>\n",
       "      <th>X1</th>\n",
       "      <th>X2</th>\n",
       "      <th>X3</th>\n",
       "      <th>X4</th>\n",
       "      <th>X5</th>\n",
       "      <th>X6</th>\n",
       "      <th>X7</th>\n",
       "      <th>X8</th>\n",
       "      <th>X9</th>\n",
       "      <th>X10</th>\n",
       "      <th>X11</th>\n",
       "      <th>X12</th>\n",
       "      <th>X13</th>\n",
       "      <th>target</th>\n",
       "    </tr>\n",
       "  </thead>\n",
       "  <tbody>\n",
       "    <tr>\n",
       "      <th>0</th>\n",
       "      <td>14.23</td>\n",
       "      <td>1.71</td>\n",
       "      <td>2.43</td>\n",
       "      <td>15.6</td>\n",
       "      <td>127.0</td>\n",
       "      <td>2.80</td>\n",
       "      <td>3.06</td>\n",
       "      <td>0.28</td>\n",
       "      <td>2.29</td>\n",
       "      <td>5.64</td>\n",
       "      <td>1.04</td>\n",
       "      <td>3.92</td>\n",
       "      <td>1065.0</td>\n",
       "      <td>0</td>\n",
       "    </tr>\n",
       "    <tr>\n",
       "      <th>1</th>\n",
       "      <td>13.20</td>\n",
       "      <td>1.78</td>\n",
       "      <td>2.14</td>\n",
       "      <td>11.2</td>\n",
       "      <td>100.0</td>\n",
       "      <td>2.65</td>\n",
       "      <td>2.76</td>\n",
       "      <td>0.26</td>\n",
       "      <td>1.28</td>\n",
       "      <td>4.38</td>\n",
       "      <td>1.05</td>\n",
       "      <td>3.40</td>\n",
       "      <td>1050.0</td>\n",
       "      <td>0</td>\n",
       "    </tr>\n",
       "    <tr>\n",
       "      <th>2</th>\n",
       "      <td>13.16</td>\n",
       "      <td>2.36</td>\n",
       "      <td>2.67</td>\n",
       "      <td>18.6</td>\n",
       "      <td>101.0</td>\n",
       "      <td>2.80</td>\n",
       "      <td>3.24</td>\n",
       "      <td>0.30</td>\n",
       "      <td>2.81</td>\n",
       "      <td>5.68</td>\n",
       "      <td>1.03</td>\n",
       "      <td>3.17</td>\n",
       "      <td>1185.0</td>\n",
       "      <td>0</td>\n",
       "    </tr>\n",
       "    <tr>\n",
       "      <th>3</th>\n",
       "      <td>14.37</td>\n",
       "      <td>1.95</td>\n",
       "      <td>2.50</td>\n",
       "      <td>16.8</td>\n",
       "      <td>113.0</td>\n",
       "      <td>3.85</td>\n",
       "      <td>3.49</td>\n",
       "      <td>0.24</td>\n",
       "      <td>2.18</td>\n",
       "      <td>7.80</td>\n",
       "      <td>0.86</td>\n",
       "      <td>3.45</td>\n",
       "      <td>1480.0</td>\n",
       "      <td>0</td>\n",
       "    </tr>\n",
       "    <tr>\n",
       "      <th>4</th>\n",
       "      <td>13.24</td>\n",
       "      <td>2.59</td>\n",
       "      <td>2.87</td>\n",
       "      <td>21.0</td>\n",
       "      <td>118.0</td>\n",
       "      <td>2.80</td>\n",
       "      <td>2.69</td>\n",
       "      <td>0.39</td>\n",
       "      <td>1.82</td>\n",
       "      <td>4.32</td>\n",
       "      <td>1.04</td>\n",
       "      <td>2.93</td>\n",
       "      <td>735.0</td>\n",
       "      <td>0</td>\n",
       "    </tr>\n",
       "  </tbody>\n",
       "</table>\n",
       "</div>"
      ],
      "text/plain": [
       "      X1    X2    X3    X4     X5    X6    X7    X8    X9   X10   X11   X12  \\\n",
       "0  14.23  1.71  2.43  15.6  127.0  2.80  3.06  0.28  2.29  5.64  1.04  3.92   \n",
       "1  13.20  1.78  2.14  11.2  100.0  2.65  2.76  0.26  1.28  4.38  1.05  3.40   \n",
       "2  13.16  2.36  2.67  18.6  101.0  2.80  3.24  0.30  2.81  5.68  1.03  3.17   \n",
       "3  14.37  1.95  2.50  16.8  113.0  3.85  3.49  0.24  2.18  7.80  0.86  3.45   \n",
       "4  13.24  2.59  2.87  21.0  118.0  2.80  2.69  0.39  1.82  4.32  1.04  2.93   \n",
       "\n",
       "      X13  target  \n",
       "0  1065.0       0  \n",
       "1  1050.0       0  \n",
       "2  1185.0       0  \n",
       "3  1480.0       0  \n",
       "4   735.0       0  "
      ]
     },
     "execution_count": 9,
     "metadata": {},
     "output_type": "execute_result"
    }
   ],
   "source": [
    "#renaming columns for easier references when training and testing of models.\n",
    "df.rename(columns={\"alcohol\":\"X1\",\n",
    "                  \"malic_acid\":\"X2\",\n",
    "                   \"ash\":\"X3\",\n",
    "                   \"alcalinity_of_ash\":\"X4\",\n",
    "                   \"magnesium\":\"X5\",\n",
    "                   \"total_phenols\":\"X6\",\n",
    "                   \"flavanoids\":\"X7\",\n",
    "                   \"nonflavanoid_phenols\":\"X8\",\n",
    "                   \"proanthocyanins\":\"X9\",\n",
    "                   \"color_intensity\":\"X10\",\n",
    "                   \"hue\":\"X11\",\n",
    "                   \"od280/od315_of_diluted_wines\":\"X12\",\n",
    "                   \"proline\":\"X13\"\n",
    "                  },inplace = True)\n",
    "df.head()"
   ]
  },
  {
   "cell_type": "code",
   "execution_count": 10,
   "metadata": {},
   "outputs": [
    {
     "data": {
      "text/html": [
       "<div>\n",
       "<style scoped>\n",
       "    .dataframe tbody tr th:only-of-type {\n",
       "        vertical-align: middle;\n",
       "    }\n",
       "\n",
       "    .dataframe tbody tr th {\n",
       "        vertical-align: top;\n",
       "    }\n",
       "\n",
       "    .dataframe thead th {\n",
       "        text-align: right;\n",
       "    }\n",
       "</style>\n",
       "<table border=\"1\" class=\"dataframe\">\n",
       "  <thead>\n",
       "    <tr style=\"text-align: right;\">\n",
       "      <th></th>\n",
       "      <th>X1</th>\n",
       "      <th>X2</th>\n",
       "      <th>X3</th>\n",
       "      <th>X4</th>\n",
       "      <th>X5</th>\n",
       "      <th>X6</th>\n",
       "      <th>X7</th>\n",
       "      <th>X8</th>\n",
       "      <th>X9</th>\n",
       "      <th>X10</th>\n",
       "      <th>X11</th>\n",
       "      <th>X12</th>\n",
       "      <th>X13</th>\n",
       "      <th>target</th>\n",
       "    </tr>\n",
       "  </thead>\n",
       "  <tbody>\n",
       "    <tr>\n",
       "      <th>count</th>\n",
       "      <td>178.000000</td>\n",
       "      <td>178.000000</td>\n",
       "      <td>178.000000</td>\n",
       "      <td>178.000000</td>\n",
       "      <td>178.000000</td>\n",
       "      <td>178.000000</td>\n",
       "      <td>178.000000</td>\n",
       "      <td>178.000000</td>\n",
       "      <td>178.000000</td>\n",
       "      <td>178.000000</td>\n",
       "      <td>178.000000</td>\n",
       "      <td>178.000000</td>\n",
       "      <td>178.000000</td>\n",
       "      <td>178.000000</td>\n",
       "    </tr>\n",
       "    <tr>\n",
       "      <th>mean</th>\n",
       "      <td>13.000618</td>\n",
       "      <td>2.336348</td>\n",
       "      <td>2.366517</td>\n",
       "      <td>19.494944</td>\n",
       "      <td>99.741573</td>\n",
       "      <td>2.295112</td>\n",
       "      <td>2.029270</td>\n",
       "      <td>0.361854</td>\n",
       "      <td>1.590899</td>\n",
       "      <td>5.058090</td>\n",
       "      <td>0.957449</td>\n",
       "      <td>2.611685</td>\n",
       "      <td>746.893258</td>\n",
       "      <td>0.938202</td>\n",
       "    </tr>\n",
       "    <tr>\n",
       "      <th>std</th>\n",
       "      <td>0.811827</td>\n",
       "      <td>1.117146</td>\n",
       "      <td>0.274344</td>\n",
       "      <td>3.339564</td>\n",
       "      <td>14.282484</td>\n",
       "      <td>0.625851</td>\n",
       "      <td>0.998859</td>\n",
       "      <td>0.124453</td>\n",
       "      <td>0.572359</td>\n",
       "      <td>2.318286</td>\n",
       "      <td>0.228572</td>\n",
       "      <td>0.709990</td>\n",
       "      <td>314.907474</td>\n",
       "      <td>0.775035</td>\n",
       "    </tr>\n",
       "    <tr>\n",
       "      <th>min</th>\n",
       "      <td>11.030000</td>\n",
       "      <td>0.740000</td>\n",
       "      <td>1.360000</td>\n",
       "      <td>10.600000</td>\n",
       "      <td>70.000000</td>\n",
       "      <td>0.980000</td>\n",
       "      <td>0.340000</td>\n",
       "      <td>0.130000</td>\n",
       "      <td>0.410000</td>\n",
       "      <td>1.280000</td>\n",
       "      <td>0.480000</td>\n",
       "      <td>1.270000</td>\n",
       "      <td>278.000000</td>\n",
       "      <td>0.000000</td>\n",
       "    </tr>\n",
       "    <tr>\n",
       "      <th>25%</th>\n",
       "      <td>12.362500</td>\n",
       "      <td>1.602500</td>\n",
       "      <td>2.210000</td>\n",
       "      <td>17.200000</td>\n",
       "      <td>88.000000</td>\n",
       "      <td>1.742500</td>\n",
       "      <td>1.205000</td>\n",
       "      <td>0.270000</td>\n",
       "      <td>1.250000</td>\n",
       "      <td>3.220000</td>\n",
       "      <td>0.782500</td>\n",
       "      <td>1.937500</td>\n",
       "      <td>500.500000</td>\n",
       "      <td>0.000000</td>\n",
       "    </tr>\n",
       "    <tr>\n",
       "      <th>50%</th>\n",
       "      <td>13.050000</td>\n",
       "      <td>1.865000</td>\n",
       "      <td>2.360000</td>\n",
       "      <td>19.500000</td>\n",
       "      <td>98.000000</td>\n",
       "      <td>2.355000</td>\n",
       "      <td>2.135000</td>\n",
       "      <td>0.340000</td>\n",
       "      <td>1.555000</td>\n",
       "      <td>4.690000</td>\n",
       "      <td>0.965000</td>\n",
       "      <td>2.780000</td>\n",
       "      <td>673.500000</td>\n",
       "      <td>1.000000</td>\n",
       "    </tr>\n",
       "    <tr>\n",
       "      <th>75%</th>\n",
       "      <td>13.677500</td>\n",
       "      <td>3.082500</td>\n",
       "      <td>2.557500</td>\n",
       "      <td>21.500000</td>\n",
       "      <td>107.000000</td>\n",
       "      <td>2.800000</td>\n",
       "      <td>2.875000</td>\n",
       "      <td>0.437500</td>\n",
       "      <td>1.950000</td>\n",
       "      <td>6.200000</td>\n",
       "      <td>1.120000</td>\n",
       "      <td>3.170000</td>\n",
       "      <td>985.000000</td>\n",
       "      <td>2.000000</td>\n",
       "    </tr>\n",
       "    <tr>\n",
       "      <th>max</th>\n",
       "      <td>14.830000</td>\n",
       "      <td>5.800000</td>\n",
       "      <td>3.230000</td>\n",
       "      <td>30.000000</td>\n",
       "      <td>162.000000</td>\n",
       "      <td>3.880000</td>\n",
       "      <td>5.080000</td>\n",
       "      <td>0.660000</td>\n",
       "      <td>3.580000</td>\n",
       "      <td>13.000000</td>\n",
       "      <td>1.710000</td>\n",
       "      <td>4.000000</td>\n",
       "      <td>1680.000000</td>\n",
       "      <td>2.000000</td>\n",
       "    </tr>\n",
       "  </tbody>\n",
       "</table>\n",
       "</div>"
      ],
      "text/plain": [
       "               X1          X2          X3          X4          X5          X6  \\\n",
       "count  178.000000  178.000000  178.000000  178.000000  178.000000  178.000000   \n",
       "mean    13.000618    2.336348    2.366517   19.494944   99.741573    2.295112   \n",
       "std      0.811827    1.117146    0.274344    3.339564   14.282484    0.625851   \n",
       "min     11.030000    0.740000    1.360000   10.600000   70.000000    0.980000   \n",
       "25%     12.362500    1.602500    2.210000   17.200000   88.000000    1.742500   \n",
       "50%     13.050000    1.865000    2.360000   19.500000   98.000000    2.355000   \n",
       "75%     13.677500    3.082500    2.557500   21.500000  107.000000    2.800000   \n",
       "max     14.830000    5.800000    3.230000   30.000000  162.000000    3.880000   \n",
       "\n",
       "               X7          X8          X9         X10         X11         X12  \\\n",
       "count  178.000000  178.000000  178.000000  178.000000  178.000000  178.000000   \n",
       "mean     2.029270    0.361854    1.590899    5.058090    0.957449    2.611685   \n",
       "std      0.998859    0.124453    0.572359    2.318286    0.228572    0.709990   \n",
       "min      0.340000    0.130000    0.410000    1.280000    0.480000    1.270000   \n",
       "25%      1.205000    0.270000    1.250000    3.220000    0.782500    1.937500   \n",
       "50%      2.135000    0.340000    1.555000    4.690000    0.965000    2.780000   \n",
       "75%      2.875000    0.437500    1.950000    6.200000    1.120000    3.170000   \n",
       "max      5.080000    0.660000    3.580000   13.000000    1.710000    4.000000   \n",
       "\n",
       "               X13      target  \n",
       "count   178.000000  178.000000  \n",
       "mean    746.893258    0.938202  \n",
       "std     314.907474    0.775035  \n",
       "min     278.000000    0.000000  \n",
       "25%     500.500000    0.000000  \n",
       "50%     673.500000    1.000000  \n",
       "75%     985.000000    2.000000  \n",
       "max    1680.000000    2.000000  "
      ]
     },
     "execution_count": 10,
     "metadata": {},
     "output_type": "execute_result"
    }
   ],
   "source": [
    "df.describe()"
   ]
  },
  {
   "cell_type": "code",
   "execution_count": 11,
   "metadata": {},
   "outputs": [],
   "source": [
    "#defining the X and y variables\n",
    "X = df.astype(float)\n",
    "y = X.pop(\"target\")"
   ]
  },
  {
   "cell_type": "code",
   "execution_count": 12,
   "metadata": {},
   "outputs": [
    {
     "data": {
      "text/html": [
       "<div>\n",
       "<style scoped>\n",
       "    .dataframe tbody tr th:only-of-type {\n",
       "        vertical-align: middle;\n",
       "    }\n",
       "\n",
       "    .dataframe tbody tr th {\n",
       "        vertical-align: top;\n",
       "    }\n",
       "\n",
       "    .dataframe thead th {\n",
       "        text-align: right;\n",
       "    }\n",
       "</style>\n",
       "<table border=\"1\" class=\"dataframe\">\n",
       "  <thead>\n",
       "    <tr style=\"text-align: right;\">\n",
       "      <th></th>\n",
       "      <th>X1</th>\n",
       "      <th>X2</th>\n",
       "      <th>X3</th>\n",
       "      <th>X4</th>\n",
       "      <th>X5</th>\n",
       "      <th>X6</th>\n",
       "      <th>X7</th>\n",
       "      <th>X8</th>\n",
       "      <th>X9</th>\n",
       "      <th>X10</th>\n",
       "      <th>X11</th>\n",
       "      <th>X12</th>\n",
       "      <th>X13</th>\n",
       "    </tr>\n",
       "  </thead>\n",
       "  <tbody>\n",
       "    <tr>\n",
       "      <th>0</th>\n",
       "      <td>14.23</td>\n",
       "      <td>1.71</td>\n",
       "      <td>2.43</td>\n",
       "      <td>15.6</td>\n",
       "      <td>127.0</td>\n",
       "      <td>2.80</td>\n",
       "      <td>3.06</td>\n",
       "      <td>0.28</td>\n",
       "      <td>2.29</td>\n",
       "      <td>5.64</td>\n",
       "      <td>1.04</td>\n",
       "      <td>3.92</td>\n",
       "      <td>1065.0</td>\n",
       "    </tr>\n",
       "    <tr>\n",
       "      <th>1</th>\n",
       "      <td>13.20</td>\n",
       "      <td>1.78</td>\n",
       "      <td>2.14</td>\n",
       "      <td>11.2</td>\n",
       "      <td>100.0</td>\n",
       "      <td>2.65</td>\n",
       "      <td>2.76</td>\n",
       "      <td>0.26</td>\n",
       "      <td>1.28</td>\n",
       "      <td>4.38</td>\n",
       "      <td>1.05</td>\n",
       "      <td>3.40</td>\n",
       "      <td>1050.0</td>\n",
       "    </tr>\n",
       "    <tr>\n",
       "      <th>2</th>\n",
       "      <td>13.16</td>\n",
       "      <td>2.36</td>\n",
       "      <td>2.67</td>\n",
       "      <td>18.6</td>\n",
       "      <td>101.0</td>\n",
       "      <td>2.80</td>\n",
       "      <td>3.24</td>\n",
       "      <td>0.30</td>\n",
       "      <td>2.81</td>\n",
       "      <td>5.68</td>\n",
       "      <td>1.03</td>\n",
       "      <td>3.17</td>\n",
       "      <td>1185.0</td>\n",
       "    </tr>\n",
       "    <tr>\n",
       "      <th>3</th>\n",
       "      <td>14.37</td>\n",
       "      <td>1.95</td>\n",
       "      <td>2.50</td>\n",
       "      <td>16.8</td>\n",
       "      <td>113.0</td>\n",
       "      <td>3.85</td>\n",
       "      <td>3.49</td>\n",
       "      <td>0.24</td>\n",
       "      <td>2.18</td>\n",
       "      <td>7.80</td>\n",
       "      <td>0.86</td>\n",
       "      <td>3.45</td>\n",
       "      <td>1480.0</td>\n",
       "    </tr>\n",
       "    <tr>\n",
       "      <th>4</th>\n",
       "      <td>13.24</td>\n",
       "      <td>2.59</td>\n",
       "      <td>2.87</td>\n",
       "      <td>21.0</td>\n",
       "      <td>118.0</td>\n",
       "      <td>2.80</td>\n",
       "      <td>2.69</td>\n",
       "      <td>0.39</td>\n",
       "      <td>1.82</td>\n",
       "      <td>4.32</td>\n",
       "      <td>1.04</td>\n",
       "      <td>2.93</td>\n",
       "      <td>735.0</td>\n",
       "    </tr>\n",
       "  </tbody>\n",
       "</table>\n",
       "</div>"
      ],
      "text/plain": [
       "      X1    X2    X3    X4     X5    X6    X7    X8    X9   X10   X11   X12  \\\n",
       "0  14.23  1.71  2.43  15.6  127.0  2.80  3.06  0.28  2.29  5.64  1.04  3.92   \n",
       "1  13.20  1.78  2.14  11.2  100.0  2.65  2.76  0.26  1.28  4.38  1.05  3.40   \n",
       "2  13.16  2.36  2.67  18.6  101.0  2.80  3.24  0.30  2.81  5.68  1.03  3.17   \n",
       "3  14.37  1.95  2.50  16.8  113.0  3.85  3.49  0.24  2.18  7.80  0.86  3.45   \n",
       "4  13.24  2.59  2.87  21.0  118.0  2.80  2.69  0.39  1.82  4.32  1.04  2.93   \n",
       "\n",
       "      X13  \n",
       "0  1065.0  \n",
       "1  1050.0  \n",
       "2  1185.0  \n",
       "3  1480.0  \n",
       "4   735.0  "
      ]
     },
     "execution_count": 12,
     "metadata": {},
     "output_type": "execute_result"
    }
   ],
   "source": [
    "X.head()"
   ]
  },
  {
   "cell_type": "code",
   "execution_count": 13,
   "metadata": {},
   "outputs": [
    {
     "data": {
      "text/plain": [
       "(178, 13)"
      ]
     },
     "execution_count": 13,
     "metadata": {},
     "output_type": "execute_result"
    }
   ],
   "source": [
    "X.shape"
   ]
  },
  {
   "cell_type": "code",
   "execution_count": 14,
   "metadata": {},
   "outputs": [
    {
     "data": {
      "text/plain": [
       "0    0.0\n",
       "1    0.0\n",
       "2    0.0\n",
       "3    0.0\n",
       "4    0.0\n",
       "Name: target, dtype: float64"
      ]
     },
     "execution_count": 14,
     "metadata": {},
     "output_type": "execute_result"
    }
   ],
   "source": [
    "y.head()"
   ]
  },
  {
   "cell_type": "code",
   "execution_count": 15,
   "metadata": {},
   "outputs": [
    {
     "data": {
      "text/plain": [
       "array([0., 1., 2.])"
      ]
     },
     "execution_count": 15,
     "metadata": {},
     "output_type": "execute_result"
    }
   ],
   "source": [
    "y.unique()"
   ]
  },
  {
   "cell_type": "markdown",
   "metadata": {},
   "source": [
    "<h3> 4.3.1 Balanced or Imbalanced Dataset </h3>"
   ]
  },
  {
   "cell_type": "code",
   "execution_count": 16,
   "metadata": {},
   "outputs": [
    {
     "data": {
      "text/plain": [
       "Counter({0.0: 59, 1.0: 71, 2.0: 48})"
      ]
     },
     "execution_count": 16,
     "metadata": {},
     "output_type": "execute_result"
    }
   ],
   "source": [
    "Counter(y)"
   ]
  },
  {
   "cell_type": "markdown",
   "metadata": {},
   "source": [
    "Since there are imbalanced dataset, accuracy cannot be used as a factor to measure which algorithm is the best algorithm. Therefore, we have to use F1 score to evaluate the best algorithm for wine dataset."
   ]
  },
  {
   "cell_type": "code",
   "execution_count": 17,
   "metadata": {},
   "outputs": [
    {
     "data": {
      "text/plain": [
       "0.398876404494382"
      ]
     },
     "execution_count": 17,
     "metadata": {},
     "output_type": "execute_result"
    }
   ],
   "source": [
    "baseline = 71 / (59+71+48)\n",
    "baseline"
   ]
  },
  {
   "cell_type": "markdown",
   "metadata": {},
   "source": [
    "Machine Learning models will have to be better than 40% accuracy."
   ]
  },
  {
   "cell_type": "markdown",
   "metadata": {},
   "source": [
    "<h3> 4.3.2 Box Plot </h3>"
   ]
  },
  {
   "cell_type": "code",
   "execution_count": 18,
   "metadata": {
    "scrolled": true
   },
   "outputs": [
    {
     "data": {
      "image/png": "[encoded data removed]",
      "text/plain": [
       "<Figure size 432x288 with 1 Axes>"
      ]
     },
     "metadata": {
      "needs_background": "light"
     },
     "output_type": "display_data"
    }
   ],
   "source": [
    "boxplot1 = df[[\"X1\",\"X2\",\"X3\",\"X4\",\"X6\",\"X7\",\"X8\",\"X9\",\"X10\",\"X11\",\"X12\"]].boxplot()\n",
    "plt.grid()"
   ]
  },
  {
   "cell_type": "code",
   "execution_count": 19,
   "metadata": {},
   "outputs": [
    {
     "data": {
      "image/png": "[encoded data removed]",
      "text/plain": [
       "<Figure size 432x288 with 1 Axes>"
      ]
     },
     "metadata": {
      "needs_background": "light"
     },
     "output_type": "display_data"
    }
   ],
   "source": [
    "boxplot2 = df[[\"X5\"]].boxplot()\n",
    "plt.grid()"
   ]
  },
  {
   "cell_type": "code",
   "execution_count": 20,
   "metadata": {},
   "outputs": [
    {
     "data": {
      "image/png": "[encoded data removed]",
      "text/plain": [
       "<Figure size 432x288 with 1 Axes>"
      ]
     },
     "metadata": {
      "needs_background": "light"
     },
     "output_type": "display_data"
    }
   ],
   "source": [
    "boxplot3 = df[[\"X13\"]].boxplot()\n",
    "plt.grid()"
   ]
  },
  {
   "cell_type": "markdown",
   "metadata": {},
   "source": [
    "With reference to the above box plots, it can be observed that there are outliers for X2, X3, X4, X5, X9, X10, X11. The data points are also spread very far apart. \n",
    "\n",
    "For X2, X10 and X13, the median is slightly towards the 25% cut off of the data points, whilst X1, X3, X6, X9, X11 and X12 have the median towards the 75% cut off of the data points."
   ]
  },
  {
   "cell_type": "markdown",
   "metadata": {},
   "source": [
    "<h3> 4.3.3 Train-Test-Split </h3>"
   ]
  },
  {
   "cell_type": "code",
   "execution_count": 21,
   "metadata": {},
   "outputs": [],
   "source": [
    "X_train, X_test, y_train, y_test = train_test_split(X, y, train_size=0.8, shuffle=True, random_state=178)"
   ]
  },
  {
   "cell_type": "code",
   "execution_count": 22,
   "metadata": {},
   "outputs": [
    {
     "data": {
      "text/plain": [
       "(142, 13)"
      ]
     },
     "execution_count": 22,
     "metadata": {},
     "output_type": "execute_result"
    }
   ],
   "source": [
    "X_train.shape"
   ]
  },
  {
   "cell_type": "code",
   "execution_count": 23,
   "metadata": {},
   "outputs": [
    {
     "data": {
      "text/plain": [
       "(36, 13)"
      ]
     },
     "execution_count": 23,
     "metadata": {},
     "output_type": "execute_result"
    }
   ],
   "source": [
    "X_test.shape"
   ]
  },
  {
   "cell_type": "markdown",
   "metadata": {},
   "source": [
    "<h3> 4.3.4 Feature Scaling</h3>"
   ]
  },
  {
   "cell_type": "markdown",
   "metadata": {},
   "source": [
    "Scaling comes in handy since data points are widely spread. Hence, scaling is a technique to make the data points closer to one another, which also means that the distance between each data points will be lower. <i>[3]</i>"
   ]
  },
  {
   "cell_type": "code",
   "execution_count": 24,
   "metadata": {},
   "outputs": [],
   "source": [
    "scaler = StandardScaler()\n",
    "scaler.fit(X_train)\n",
    "\n",
    "Xs_train = scaler.transform(X_train)\n",
    "Xs_test = scaler.transform(X_test)"
   ]
  },
  {
   "cell_type": "code",
   "execution_count": 25,
   "metadata": {
    "scrolled": true
   },
   "outputs": [
    {
     "data": {
      "image/png": "[encoded data removed]",
      "text/plain": [
       "<Figure size 432x288 with 1 Axes>"
      ]
     },
     "metadata": {
      "needs_background": "light"
     },
     "output_type": "display_data"
    }
   ],
   "source": [
    "scalePlotTrain = plt.boxplot(Xs_train)\n",
    "plt.grid()"
   ]
  },
  {
   "cell_type": "code",
   "execution_count": 26,
   "metadata": {},
   "outputs": [
    {
     "data": {
      "image/png": "[encoded data removed]",
      "text/plain": [
       "<Figure size 432x288 with 1 Axes>"
      ]
     },
     "metadata": {
      "needs_background": "light"
     },
     "output_type": "display_data"
    }
   ],
   "source": [
    "scalePlotTest = plt.boxplot(Xs_test)\n",
    "plt.grid()"
   ]
  },
  {
   "cell_type": "markdown",
   "metadata": {},
   "source": [
    "After scaling of X, we can see that the data points are now closer to each other. The median of all features (X1 to X13) are generally close to 0, which means that data points are well spread across it's range."
   ]
  },
  {
   "cell_type": "markdown",
   "metadata": {},
   "source": [
    "<h3> 4.3.5 Principal component analysis (PCA) of Wine Dataset </h3>"
   ]
  },
  {
   "cell_type": "code",
   "execution_count": 27,
   "metadata": {},
   "outputs": [
    {
     "data": {
      "text/plain": [
       "PCA(copy=True, iterated_power='auto', n_components=None, random_state=None,\n",
       "    svd_solver='auto', tol=0.0, whiten=False)"
      ]
     },
     "execution_count": 27,
     "metadata": {},
     "output_type": "execute_result"
    }
   ],
   "source": [
    "pca =PCA()\n",
    "pca.fit(Xs_train)"
   ]
  },
  {
   "cell_type": "code",
   "execution_count": 28,
   "metadata": {},
   "outputs": [
    {
     "data": {
      "text/plain": [
       "array([4.95443598, 2.48095464, 1.23371225, 0.95829811, 0.92483735,\n",
       "       0.62518353, 0.59596295, 0.33595261, 0.27550747, 0.24703412,\n",
       "       0.22226888, 0.16093055, 0.07712014])"
      ]
     },
     "execution_count": 28,
     "metadata": {},
     "output_type": "execute_result"
    }
   ],
   "source": [
    "pca.explained_variance_"
   ]
  },
  {
   "cell_type": "markdown",
   "metadata": {},
   "source": [
    "Based on Kaiser Rule, the criterion to drop the componenets for which the eigenvalues are less than 1 (when the data are standardized). Those values that greater than 1 eigenvalue suggests that its corresponding component explains more variance than a single variable, given that a variable accounts for a unit of variance. <i>[4]</i> Therefore, I will keep the first 4 principal components as the features."
   ]
  },
  {
   "cell_type": "code",
   "execution_count": 29,
   "metadata": {},
   "outputs": [],
   "source": [
    "pca = PCA(n_components=4)\n",
    "pca.fit(Xs_train)\n",
    "Xp_train = pca.transform(Xs_train)\n",
    "Xp_test = pca.transform(Xs_test)"
   ]
  },
  {
   "cell_type": "code",
   "execution_count": 30,
   "metadata": {},
   "outputs": [
    {
     "data": {
      "text/plain": [
       "((142, 4), (36, 4))"
      ]
     },
     "execution_count": 30,
     "metadata": {},
     "output_type": "execute_result"
    }
   ],
   "source": [
    "Xp_train.shape, Xp_test.shape"
   ]
  },
  {
   "cell_type": "markdown",
   "metadata": {},
   "source": [
    "<p><b>Training set for PCA:</b> Xp_train, y_train \n",
    "<br\\>\n",
    "    <b>Testing set for PCA:</b> Xp_test, y_test</p>"
   ]
  },
  {
   "cell_type": "markdown",
   "metadata": {},
   "source": [
    "# 5. Machine Learning Models"
   ]
  },
  {
   "cell_type": "markdown",
   "metadata": {},
   "source": [
    "<h2> 5.1 K-Nearest Neighbors (kNN) from scratch </h2>"
   ]
  },
  {
   "cell_type": "code",
   "execution_count": 31,
   "metadata": {},
   "outputs": [],
   "source": [
    "def calculate_euclidean_distance(x1, x2):\n",
    "    x1 = np.array(x1).astype(float)\n",
    "    x2 = np.array(x2).astype(float)\n",
    "    return np.sqrt(np.sum((x1 - x2) ** 2))"
   ]
  },
  {
   "cell_type": "code",
   "execution_count": 32,
   "metadata": {},
   "outputs": [],
   "source": [
    "def k_nearest_neighbors(query, k, training_data, training_labels):\n",
    "    distances = np.array([calculate_euclidean_distance(query, x) for x in training_data])\n",
    "    indices = np.argsort(distances)[:k]\n",
    "\n",
    "    classes = np.unique(training_labels)\n",
    "    counts = np.zeros(len(classes))\n",
    "\n",
    "    for i, c in enumerate(classes):\n",
    "        counts[i] = np.sum(np.array(c) == np.array(training_labels)[indices])\n",
    "\n",
    "    most_frequent_class = classes[np.argmax(counts)]\n",
    "    return most_frequent_class"
   ]
  },
  {
   "cell_type": "markdown",
   "metadata": {},
   "source": [
    "<h3> 5.1.1 Find the best k to optimize kNN model </h3>"
   ]
  },
  {
   "cell_type": "code",
   "execution_count": 33,
   "metadata": {},
   "outputs": [],
   "source": [
    "results = []\n",
    "for k_value in range(1, 11):\n",
    "    predictions = []\n",
    "    accuracy_count = 0\n",
    "\n",
    "    for i in range(len(Xs_test)):\n",
    "        predictions.append(k_nearest_neighbors(Xs_test[i], k_value, Xs_train, y_train))\n",
    "        if predictions[i] == y_test.values[i]:\n",
    "            accuracy_count += 1\n",
    "\n",
    "    results.append([k_value, accuracy_count / len(Xs_test)])"
   ]
  },
  {
   "cell_type": "code",
   "execution_count": 34,
   "metadata": {},
   "outputs": [
    {
     "data": {
      "image/png": "[encoded data removed]",
      "text/plain": [
       "<Figure size 576x432 with 1 Axes>"
      ]
     },
     "metadata": {
      "needs_background": "light"
     },
     "output_type": "display_data"
    }
   ],
   "source": [
    "plt.figure(figsize=(8, 6))\n",
    "plt.scatter(np.asarray(results)[:, 0], np.asarray(results)[:, 1])\n",
    "plt.plot(np.asarray(results)[:, 0], np.asarray(results)[:, 1], '--')\n",
    "plt.title('KNN results for different K values')\n",
    "plt.ylabel('Accuracy')\n",
    "plt.xlabel('Number of Neighbors (K)')\n",
    "plt.grid(True)\n",
    "plt.show()"
   ]
  },
  {
   "cell_type": "markdown",
   "metadata": {},
   "source": [
    "From the plot above, it shows that when k=7, 8 and 9, the accuracy is the highest. Therefore, I choose to take the average between the 3 values, where best parameters for kNN will be k=8."
   ]
  },
  {
   "cell_type": "markdown",
   "metadata": {},
   "source": [
    "<h3> 5.1.2 Results (kNN) </h3>"
   ]
  },
  {
   "cell_type": "code",
   "execution_count": 35,
   "metadata": {},
   "outputs": [
    {
     "name": "stdout",
     "output_type": "stream",
     "text": [
      "Precision: 0.9629629629629629\n",
      "Recall: 0.9841269841269842\n",
      "F1 Score: 0.9722620755619321\n",
      "Confusion Matrix:\n",
      "[[ 8  0  0]\n",
      " [ 1 20  0]\n",
      " [ 0  0  7]]\n"
     ]
    }
   ],
   "source": [
    "k_dist =8\n",
    "\n",
    "# Train model with k_dist\n",
    "predicted_labels = [k_nearest_neighbors(x, k_dist, Xs_train, y_train) for x in Xs_test]\n",
    "\n",
    "# Calculate precision, recall, and f1 score\n",
    "precisionkNN = precision_score(y_test, predicted_labels, average='macro') \n",
    "recallkNN = recall_score(y_test, predicted_labels, average='macro') \n",
    "f1kNN = f1_score(y_test, predicted_labels, average='macro')  \n",
    "\n",
    "# Print precision, recall, and f1 score\n",
    "print(\"Precision:\", precisionkNN)\n",
    "print(\"Recall:\", recallkNN)\n",
    "print(\"F1 Score:\", f1kNN)\n",
    "\n",
    "# Print confusion matrix\n",
    "conf_matrixkNN = confusion_matrix(y_test, predicted_labels)\n",
    "print(\"Confusion Matrix:\")\n",
    "print(conf_matrixkNN)"
   ]
  },
  {
   "cell_type": "code",
   "execution_count": 36,
   "metadata": {},
   "outputs": [
    {
     "data": {
      "image/png": "[encoded data removed]",
      "text/plain": [
       "<Figure size 576x432 with 2 Axes>"
      ]
     },
     "metadata": {
      "needs_background": "light"
     },
     "output_type": "display_data"
    }
   ],
   "source": [
    "# Convert the confusion matrix to a DataFrame for easier plotting\n",
    "class_labels = ['Class 0', 'Class 1', 'Class 2']\n",
    "conf_matrix_df = pd.DataFrame(conf_matrixkNN, index=class_labels, columns=class_labels)\n",
    "\n",
    "# Plot the heatmap using Seaborn\n",
    "plt.figure(figsize=(8, 6))\n",
    "sns.heatmap(conf_matrix_df, annot=True, cmap='Blues', fmt='g', cbar=True, square=True)\n",
    "plt.xlabel('Predicted Labels')\n",
    "plt.ylabel('True Labels')\n",
    "plt.title('Confusion Matrix Heatmap (kNN)')\n",
    "plt.show()"
   ]
  },
  {
   "cell_type": "markdown",
   "metadata": {},
   "source": [
    "<h3> 5.1.3 Results (kNN) PCA"
   ]
  },
  {
   "cell_type": "code",
   "execution_count": 37,
   "metadata": {},
   "outputs": [
    {
     "name": "stdout",
     "output_type": "stream",
     "text": [
      "Precision: 0.9333333333333332\n",
      "Recall: 0.9682539682539683\n",
      "F1 Score: 0.9462962962962963\n",
      "Confusion Matrix:\n",
      "[[ 8  0  0]\n",
      " [ 2 19  0]\n",
      " [ 0  0  7]]\n"
     ]
    }
   ],
   "source": [
    "k_dist =8\n",
    "\n",
    "# Train model with k_dist\n",
    "predicted_labels = [k_nearest_neighbors(x, k_dist, Xp_train, y_train) for x in Xp_test]\n",
    "\n",
    "# Calculate precision, recall, and f1 score\n",
    "precisionkNNPCA = precision_score(y_test, predicted_labels, average='macro')  \n",
    "recallkNNPCA = recall_score(y_test, predicted_labels, average='macro') \n",
    "f1kNNPCA = f1_score(y_test, predicted_labels, average='macro')\n",
    "\n",
    "# Print precision, recall, and f1 score\n",
    "print(\"Precision:\", precisionkNNPCA)\n",
    "print(\"Recall:\", recallkNNPCA)\n",
    "print(\"F1 Score:\", f1kNNPCA)\n",
    "\n",
    "# Print confusion matrix\n",
    "conf_matrixkNNPCA = confusion_matrix(y_test, predicted_labels)\n",
    "print(\"Confusion Matrix:\")\n",
    "print(conf_matrixkNNPCA)"
   ]
  },
  {
   "cell_type": "code",
   "execution_count": 38,
   "metadata": {},
   "outputs": [
    {
     "data": {
      "image/png": "[encoded data removed]",
      "text/plain": [
       "<Figure size 576x432 with 2 Axes>"
      ]
     },
     "metadata": {
      "needs_background": "light"
     },
     "output_type": "display_data"
    }
   ],
   "source": [
    "# Convert the confusion matrix to a DataFrame for easier plotting\n",
    "class_labels = ['Class 0', 'Class 1', 'Class 2']\n",
    "conf_matrix_dfPCA = pd.DataFrame(conf_matrixkNNPCA, index=class_labels, columns=class_labels)\n",
    "\n",
    "# Plot the heatmap using Seaborn\n",
    "plt.figure(figsize=(8, 6))\n",
    "sns.heatmap(conf_matrix_dfPCA, annot=True, cmap='Blues', fmt='g', cbar=True, square=True)\n",
    "plt.xlabel('Predicted Labels')\n",
    "plt.ylabel('True Labels')\n",
    "plt.title('Confusion Matrix Heatmap (kNN) PCA')\n",
    "plt.show()"
   ]
  },
  {
   "cell_type": "markdown",
   "metadata": {},
   "source": [
    "<h2> 5.2 Decision Tree </h2>"
   ]
  },
  {
   "cell_type": "code",
   "execution_count": 39,
   "metadata": {},
   "outputs": [],
   "source": [
    "def decisionTree(Xtrain, Xtest, ytrain, ytest, maxDepth, minSamplesSplit):\n",
    "    # Create a new DecisionTreeClassifier with the specified hyperparameters\n",
    "    best_dt = DecisionTreeClassifier(max_depth=maxDepth, min_samples_split=minSamplesSplit)\n",
    "\n",
    "    # Train model on the training data\n",
    "    best_dt.fit(Xtrain, ytrain)\n",
    "\n",
    "    # Predict values for the test data based on the best model\n",
    "    y_pred_best = best_dt.predict(Xtest)\n",
    "\n",
    "    # Calculate precision, recall, confusion matrix, and F1 Score of Decision Tree\n",
    "    precision_dt = precision_score(ytest, y_pred_best, average='macro')\n",
    "    recall_dt = recall_score(ytest, y_pred_best, average='macro')\n",
    "    f1score_dt = f1_score(ytest, y_pred_best, average='macro')\n",
    "    conf_matrix_dt = confusion_matrix(ytest, y_pred_best)\n",
    "\n",
    "    # Return the metrics\n",
    "    return conf_matrix_dt, precision_dt, recall_dt, f1score_dt"
   ]
  },
  {
   "cell_type": "markdown",
   "metadata": {},
   "source": [
    "<h3> 5.2.1 Find the best max_depth and min_samples_split to optimize Decision Tree Model </h3>"
   ]
  },
  {
   "cell_type": "code",
   "execution_count": 40,
   "metadata": {},
   "outputs": [
    {
     "name": "stdout",
     "output_type": "stream",
     "text": [
      "Best Parameters:  {'max_depth': 3, 'min_samples_split': 2}\n",
      "Confusion Matrix: \n",
      " [[ 8  0  0]\n",
      " [ 0 20  1]\n",
      " [ 0  0  7]]\n",
      "F1 Score:  0.9696476964769648\n"
     ]
    }
   ],
   "source": [
    "# Define the Decision Tree classifier\n",
    "dt = DecisionTreeClassifier(random_state=0)\n",
    "\n",
    "# Define the parameter grid to search\n",
    "param_grid = {\n",
    "    'max_depth': range(1, 10),         \n",
    "    'min_samples_split': range(2, 10)   \n",
    "}\n",
    "\n",
    "# Create the GridSearchCV object\n",
    "grid_search = GridSearchCV(estimator=dt, param_grid=param_grid, cv=5, scoring='f1_macro')\n",
    "\n",
    "# Fit the grid search to the data\n",
    "grid_search.fit(Xs_train, y_train)\n",
    "\n",
    "# Best Parameters\n",
    "best_params = grid_search.best_params_\n",
    "\n",
    "# Print the best parameters\n",
    "print(\"Best Parameters: \", best_params)\n",
    "\n",
    "# Get the best classifier\n",
    "best_dt = grid_search.best_estimator_\n",
    "\n",
    "# Predict values for test data based on the best model\n",
    "y_pred_best = best_dt.predict(Xs_test)\n",
    "\n",
    "# Print values\n",
    "#print(\"True Values: \", y_test)\n",
    "#print(\"Predicted Values: \", y_pred_best)\n",
    "\n",
    "# Print confusion matrix and F1 score for the best model\n",
    "print(\"Confusion Matrix: \\n\", confusion_matrix(y_test, y_pred_best))\n",
    "print(\"F1 Score: \", f1_score(y_test, y_pred_best, average='macro'))"
   ]
  },
  {
   "cell_type": "markdown",
   "metadata": {},
   "source": [
    "The best max_depth is 3 and min_samples_split is 2. I will train the model with max_depth = 3 and min_samples_split = 2."
   ]
  },
  {
   "cell_type": "markdown",
   "metadata": {},
   "source": [
    "<h3> 5.2.2 Results (Decision Tree) </h3>"
   ]
  },
  {
   "cell_type": "code",
   "execution_count": 41,
   "metadata": {},
   "outputs": [
    {
     "name": "stdout",
     "output_type": "stream",
     "text": [
      "Precision: \n",
      " 0.9583333333333334\n",
      "Recall:  0.9841269841269842\n",
      "Confusion Matrix: \n",
      " [[ 8  0  0]\n",
      " [ 0 20  1]\n",
      " [ 0  0  7]]\n",
      "F1 Score:  0.9696476964769648\n"
     ]
    },
    {
     "data": {
      "image/png": "[encoded data removed]",
      "text/plain": [
       "<Figure size 576x432 with 2 Axes>"
      ]
     },
     "metadata": {
      "needs_background": "light"
     },
     "output_type": "display_data"
    }
   ],
   "source": [
    "# Call the function with training and testing data\n",
    "conf_matrix_dt, precision_dt, recall_dt, f1score_dt = decisionTree(Xs_train, Xs_test, y_train, y_test, 3, 2)\n",
    "\n",
    "# Convert the confusion matrix to a DataFrame for easier plotting\n",
    "class_labels = ['Class 0', 'Class 1', 'Class 2'] \n",
    "conf_matrix_df = pd.DataFrame(conf_matrix_dt, index=class_labels, columns=class_labels)\n",
    "\n",
    "# Print precision, recall, confusion matrix and F1 score for the best model\n",
    "print(\"Precision: \\n\", precision_dt)\n",
    "print(\"Recall: \", recall_dt)\n",
    "print(\"Confusion Matrix: \\n\", conf_matrix_dt)\n",
    "print(\"F1 Score: \", f1score_dt)\n",
    "\n",
    "# Plot the heatmap using Seaborn\n",
    "plt.figure(figsize=(8, 6))\n",
    "sns.heatmap(conf_matrix_df, annot=True, cmap='Blues', fmt='g', cbar=True, square=True)\n",
    "plt.xlabel('Predicted Labels')\n",
    "plt.ylabel('True Labels')\n",
    "plt.title('Confusion Matrix Heatmap (Decision Tree)')\n",
    "plt.show()"
   ]
  },
  {
   "cell_type": "markdown",
   "metadata": {},
   "source": [
    "<h3> 5.2.3 Results (Decision Tree) PCA </h3>"
   ]
  },
  {
   "cell_type": "code",
   "execution_count": 42,
   "metadata": {},
   "outputs": [
    {
     "name": "stdout",
     "output_type": "stream",
     "text": [
      "Precision: \n",
      " 0.9280303030303031\n",
      "Recall:  0.8948412698412698\n",
      "Confusion Matrix: \n",
      " [[ 7  1  0]\n",
      " [ 1 20  0]\n",
      " [ 0  1  6]]\n",
      "F1 Score:  0.9094364937388192\n"
     ]
    },
    {
     "data": {
      "image/png": "[encoded data removed]",
      "text/plain": [
       "<Figure size 576x432 with 2 Axes>"
      ]
     },
     "metadata": {
      "needs_background": "light"
     },
     "output_type": "display_data"
    }
   ],
   "source": [
    "# Call the function with training and testing data\n",
    "conf_matrix_dtPCA, precision_dtPCA, recall_dtPCA, f1score_dtPCA = decisionTree(Xp_train, Xp_test, y_train, y_test, 3, 2)\n",
    "\n",
    "# Convert the confusion matrix to a DataFrame for easier plotting\n",
    "class_labels = ['Class 0', 'Class 1', 'Class 2']  # Adjust these labels based on your actual class labels\n",
    "conf_matrix_df = pd.DataFrame(conf_matrix_dtPCA, index=class_labels, columns=class_labels)\n",
    "\n",
    "# Print precision, recall, confusion matrix and F1 score for the best model\n",
    "print(\"Precision: \\n\", precision_dtPCA)\n",
    "print(\"Recall: \", recall_dtPCA)\n",
    "print(\"Confusion Matrix: \\n\", conf_matrix_dtPCA)\n",
    "print(\"F1 Score: \", f1score_dtPCA)\n",
    "\n",
    "# Plot the heatmap using Seaborn\n",
    "plt.figure(figsize=(8, 6))\n",
    "sns.heatmap(conf_matrix_df, annot=True, cmap='Blues', fmt='g', cbar=True, square=True)\n",
    "plt.xlabel('Predicted Labels')\n",
    "plt.ylabel('True Labels')\n",
    "plt.title('Confusion Matrix Heatmap (Decision Tree) PCA')\n",
    "plt.show()"
   ]
  },
  {
   "cell_type": "markdown",
   "metadata": {},
   "source": [
    "<h2> 5.3 Naive Bayes </h2>"
   ]
  },
  {
   "cell_type": "code",
   "execution_count": 43,
   "metadata": {},
   "outputs": [
    {
     "data": {
      "image/png": "[encoded data removed]",
      "text/plain": [
       "<Figure size 576x432 with 1 Axes>"
      ]
     },
     "metadata": {
      "needs_background": "light"
     },
     "output_type": "display_data"
    },
    {
     "name": "stdout",
     "output_type": "stream",
     "text": [
      "[[ 8  0  0]\n",
      " [ 0 20  1]\n",
      " [ 0  0  7]]\n",
      "Accuracy: 0.97\n",
      "Precision: 0.958333, Recall: 0.984127, F1-score: 0.969648\n"
     ]
    }
   ],
   "source": [
    "# Create naive bayes model with Gaussian observations\n",
    "nb = naive_bayes.GaussianNB()\n",
    "\n",
    "# Train using the training set\n",
    "nb.fit(Xs_train, y_train)\n",
    "\n",
    "# Predict using the test set\n",
    "y_pred = nb.predict(Xs_test)\n",
    "\n",
    "# Plot outputs\n",
    "class_labels = ['Class 0', 'Class 1', 'Class 2']  \n",
    "plt.figure(figsize=(8,6))   \n",
    "plt.plot(y_test.values - 0.1, 'g*')\n",
    "plt.plot(y_pred, 'b.')\n",
    "\n",
    "#Label plot\n",
    "plt.legend(['Test Value','Predicted Value'], loc='upper left', bbox_to_anchor=(1, 1))\n",
    "plt.xlabel('Sample Index')\n",
    "plt.ylabel('Wine Class')\n",
    "plt.title('True vs. Predicted Wine Classes')\n",
    "plt.show()\n",
    "\n",
    "# Evaluation\n",
    "conf_matrixNb = metrics.confusion_matrix(y_test.values, y_pred)\n",
    "print(conf_matrixNb)\n",
    "print(\"Accuracy: %.2f\" % metrics.accuracy_score(y_test.values, y_pred))\n",
    "\n",
    "# Calculate precision, recall, and f1-score\n",
    "precisionNb, recallNb, fscoreNb, _ = metrics.precision_recall_fscore_support(y_test.values, y_pred, average='macro')\n",
    "\n",
    "\n",
    "# Print precision, recall, and f1-score for all classes combined\n",
    "print(\"Precision: {:.6f}, Recall: {:.6f}, F1-score: {:.6f}\".format(precisionNb, recallNb, fscoreNb))"
   ]
  },
  {
   "cell_type": "code",
   "execution_count": 44,
   "metadata": {},
   "outputs": [
    {
     "data": {
      "image/png": "[encoded data removed]",
      "text/plain": [
       "<Figure size 576x432 with 2 Axes>"
      ]
     },
     "metadata": {
      "needs_background": "light"
     },
     "output_type": "display_data"
    }
   ],
   "source": [
    "plt.figure(figsize=(8, 6))\n",
    "sns.heatmap(conf_matrixNb, annot=True, cmap='Blues', fmt='g', cbar=True, square=True)\n",
    "plt.xlabel('Predicted Labels')\n",
    "plt.ylabel('True Labels')\n",
    "plt.title('Confusion Matrix Heatmap (Naive Bayes)')\n",
    "plt.show()"
   ]
  },
  {
   "cell_type": "markdown",
   "metadata": {},
   "source": [
    "<h2> 5.4 Naive Bayes PCA </h2>"
   ]
  },
  {
   "cell_type": "code",
   "execution_count": 45,
   "metadata": {},
   "outputs": [
    {
     "data": {
      "image/png": "[encoded data removed]",
      "text/plain": [
       "<Figure size 576x432 with 1 Axes>"
      ]
     },
     "metadata": {
      "needs_background": "light"
     },
     "output_type": "display_data"
    },
    {
     "name": "stdout",
     "output_type": "stream",
     "text": [
      "[[ 8  0  0]\n",
      " [ 0 21  0]\n",
      " [ 0  0  7]]\n",
      "Accuracy: 1.00\n",
      "Precision: 1.000000, Recall: 1.000000, F1-score: 1.000000\n"
     ]
    }
   ],
   "source": [
    "# Create naive bayes model with Gaussian observations\n",
    "nb = naive_bayes.GaussianNB()\n",
    "\n",
    "# Train using the training set\n",
    "nb.fit(Xp_train, y_train)\n",
    "\n",
    "# Predict using the test set\n",
    "y_pred = nb.predict(Xp_test)\n",
    "\n",
    "# Plot outputs\n",
    "class_labels = ['Class 0', 'Class 1', 'Class 2']\n",
    "plt.figure(figsize=(8,6))   \n",
    "plt.plot(y_test.values - 0.1, 'g*')\n",
    "plt.plot(y_pred, 'b.')\n",
    "\n",
    "#Label plot\n",
    "plt.legend(['Test Value','Predicted Value'], loc='upper left', bbox_to_anchor=(1, 1))\n",
    "plt.xlabel('Sample Index')\n",
    "plt.ylabel('Wine Class')\n",
    "plt.title('True vs. Predicted Wine Classes')\n",
    "plt.show()\n",
    "\n",
    "# Evaluation\n",
    "conf_matrixNbPCA = metrics.confusion_matrix(y_test.values, y_pred)\n",
    "print(conf_matrixNbPCA)\n",
    "print(\"Accuracy: %.2f\" % metrics.accuracy_score(y_test.values, y_pred))\n",
    "\n",
    "# Calculate precision, recall, and f1-score\n",
    "precisionNbPCA, recallNbPCA, fscoreNbPCA, _ = metrics.precision_recall_fscore_support(y_test.values, y_pred, average='macro')\n",
    "\n",
    "\n",
    "# Print precision, recall, and f1-score for all classes combined\n",
    "print(\"Precision: {:.6f}, Recall: {:.6f}, F1-score: {:.6f}\".format(precisionNbPCA, recallNbPCA, fscoreNbPCA))"
   ]
  },
  {
   "cell_type": "code",
   "execution_count": 46,
   "metadata": {},
   "outputs": [
    {
     "data": {
      "image/png": "[encoded data removed]",
      "text/plain": [
       "<Figure size 576x432 with 2 Axes>"
      ]
     },
     "metadata": {
      "needs_background": "light"
     },
     "output_type": "display_data"
    }
   ],
   "source": [
    "plt.figure(figsize=(8, 6))\n",
    "sns.heatmap(conf_matrixNbPCA, annot=True, cmap='Blues', fmt='g', cbar=True, square=True)\n",
    "plt.xlabel('Predicted Labels')\n",
    "plt.ylabel('True Labels')\n",
    "plt.title('Confusion Matrix Heatmap (Naive Bayes)')\n",
    "plt.show()"
   ]
  },
  {
   "cell_type": "markdown",
   "metadata": {},
   "source": [
    "# 6. Evaluation"
   ]
  },
  {
   "cell_type": "code",
   "execution_count": 47,
   "metadata": {},
   "outputs": [
    {
     "name": "stdout",
     "output_type": "stream",
     "text": [
      "╒═══════════════════╤═══════════════════════╤═══════════════════╤════════════════╤════════════════════╤════════════╕\n",
      "│     Algorithm     │  Best Hyperparameter  │  Precision Score  │  Recall Score  │  Confusion Matrix  │  F1 Score  │\n",
      "╞═══════════════════╪═══════════════════════╪═══════════════════╪════════════════╪════════════════════╪════════════╡\n",
      "│        kNN        │           8           │       0.963       │     0.9841     │    [[ 8  0  0]     │   0.9723   │\n",
      "│                   │                       │                   │                │     [ 1 20  0]     │            │\n",
      "│                   │                       │                   │                │     [ 0  0  7]]    │            │\n",
      "├───────────────────┼───────────────────────┼───────────────────┼────────────────┼────────────────────┼────────────┤\n",
      "│      kNN PCA      │           8           │      0.9333       │     0.9683     │    [[ 8  0  0]     │   0.9463   │\n",
      "│                   │                       │                   │                │     [ 2 19  0]     │            │\n",
      "│                   │                       │                   │                │     [ 0  0  7]]    │            │\n",
      "├───────────────────┼───────────────────────┼───────────────────┼────────────────┼────────────────────┼────────────┤\n",
      "│   Decision Tree   │     max_depth: 3      │      0.9583       │     0.9841     │    [[ 8  0  0]     │   0.9696   │\n",
      "│                   │ min_samples_split: 2  │                   │                │     [ 0 20  1]     │            │\n",
      "│                   │                       │                   │                │     [ 0  0  7]]    │            │\n",
      "├───────────────────┼───────────────────────┼───────────────────┼────────────────┼────────────────────┼────────────┤\n",
      "│ Decision Tree PCA │     max_depth: 3      │       0.928       │     0.8948     │    [[ 7  1  0]     │   0.9094   │\n",
      "│                   │ min_samples_split: 2  │                   │                │     [ 1 20  0]     │            │\n",
      "│                   │                       │                   │                │     [ 0  1  6]]    │            │\n",
      "├───────────────────┼───────────────────────┼───────────────────┼────────────────┼────────────────────┼────────────┤\n",
      "│    Naive Bayes    │           -           │      0.9583       │     0.9841     │    [[ 8  0  0]     │   0.9696   │\n",
      "│                   │                       │                   │                │     [ 0 20  1]     │            │\n",
      "│                   │                       │                   │                │     [ 0  0  7]]    │            │\n",
      "├───────────────────┼───────────────────────┼───────────────────┼────────────────┼────────────────────┼────────────┤\n",
      "│  Naive Bayes PCA  │           -           │         1         │       1        │    [[ 8  0  0]     │     1      │\n",
      "│                   │                       │                   │                │     [ 0 21  0]     │            │\n",
      "│                   │                       │                   │                │     [ 0  0  7]]    │            │\n",
      "╘═══════════════════╧═══════════════════════╧═══════════════════╧════════════════╧════════════════════╧════════════╛\n"
     ]
    }
   ],
   "source": [
    "from tabulate import tabulate\n",
    "\n",
    "# Results for kNN\n",
    "knn_hyperparameter = k_dist\n",
    "knn_precision_score = precisionkNN\n",
    "knn_recall_score = recallkNN\n",
    "knn_confusion_matrix = conf_matrixkNN\n",
    "knn_f1_score = f1kNN\n",
    "\n",
    "# Results for kNN PCA\n",
    "knn_precision_scorePCA = precisionkNNPCA\n",
    "knn_recall_scorePCA = recallkNNPCA\n",
    "knn_confusion_matrixPCA = conf_matrixkNNPCA\n",
    "knn_f1_scorePCA = f1kNNPCA\n",
    "\n",
    "# Results for Decision Tree\n",
    "dt_hyperparameter = f\"max_depth: {best_params['max_depth']}\\nmin_samples_split: {best_params['min_samples_split']}\"\n",
    "dt_precision_score = precision_dt\n",
    "dt_recall_score = recall_dt\n",
    "dt_confusion_matrix = conf_matrix_dt\n",
    "dt_f1_score = f1score_dt\n",
    "\n",
    "# Results for Decision Tree PCA\n",
    "dt_precision_scorePCA = precision_dtPCA\n",
    "dt_recall_scorePCA = recall_dtPCA\n",
    "dt_confusion_matrixPCA = conf_matrix_dtPCA\n",
    "dt_f1_scorePCA = f1score_dtPCA\n",
    "\n",
    "# Results for Naive Bayes\n",
    "nb_precision_score = precisionNb\n",
    "nb_recall_score = recallNb\n",
    "nb_confusion_matrix = conf_matrixNb\n",
    "nb_f1_score = fscoreNb\n",
    "\n",
    "# Results for Naive Bayes PCA\n",
    "nb_precision_scorePCA = precisionNbPCA\n",
    "nb_recall_scorePCA = recallNbPCA\n",
    "nb_confusion_matrixPCA = conf_matrixNbPCA\n",
    "nb_f1_scorePCA = fscoreNbPCA\n",
    "\n",
    "# Create a list of dictionaries for each model\n",
    "models_results = [\n",
    "    {\"Algorithm\": \"kNN\", \"Best Hyperparameter\": str(knn_hyperparameter), \"Precision Score\": f\"{knn_precision_score:.4f}\", \"Recall Score\": f\"{knn_recall_score:.4f}\", \"Confusion Matrix\": knn_confusion_matrix, \"F1 Score\": f\"{knn_f1_score:.4f}\"},\n",
    "    {\"Algorithm\": \"kNN PCA\", \"Best Hyperparameter\": str(knn_hyperparameter), \"Precision Score\": f\"{knn_precision_scorePCA:.4f}\", \"Recall Score\": f\"{knn_recall_scorePCA:.4f}\", \"Confusion Matrix\": knn_confusion_matrixPCA, \"F1 Score\": f\"{knn_f1_scorePCA:.4f}\"},\n",
    "    \n",
    "    {\"Algorithm\": \"Decision Tree\", \"Best Hyperparameter\": str(dt_hyperparameter), \"Precision Score\": f\"{dt_precision_score:.4f}\", \"Recall Score\": f\"{dt_recall_score:.4f}\", \"Confusion Matrix\": dt_confusion_matrix, \"F1 Score\": f\"{dt_f1_score:.4f}\"},\n",
    "    {\"Algorithm\": \"Decision Tree PCA\", \"Best Hyperparameter\": str(dt_hyperparameter), \"Precision Score\": f\"{dt_precision_scorePCA:.4f}\", \"Recall Score\": f\"{dt_recall_scorePCA:.4f}\", \"Confusion Matrix\": dt_confusion_matrixPCA, \"F1 Score\": f\"{dt_f1_scorePCA:.4f}\"},\n",
    "    \n",
    "    {\"Algorithm\": \"Naive Bayes\", \"Best Hyperparameter\": \"-\", \"Precision Score\": f\"{nb_precision_score:.4f}\", \"Recall Score\": f\"{nb_recall_score:.4f}\", \"Confusion Matrix\": nb_confusion_matrix, \"F1 Score\": f\"{nb_f1_score:.4f}\"},\n",
    "    {\"Algorithm\": \"Naive Bayes PCA\", \"Best Hyperparameter\": \"-\", \"Precision Score\": f\"{nb_precision_scorePCA:.4f}\", \"Recall Score\": f\"{nb_recall_scorePCA:.4f}\", \"Confusion Matrix\": nb_confusion_matrixPCA, \"F1 Score\": f\"{nb_f1_scorePCA:.4f}\"},\n",
    "]\n",
    "\n",
    "# Convert the list of dictionaries to a visually appealing table\n",
    "table = tabulate(models_results, headers=\"keys\", tablefmt=\"fancy_grid\", colalign=(\"center\", \"center\", \"center\", \"center\", \"center\", \"center\"))\n",
    "\n",
    "# Print the table\n",
    "print(table)\n"
   ]
  },
  {
   "cell_type": "markdown",
   "metadata": {},
   "source": [
    "<ol>\n",
    "    <li><u><b> Comparing between kNN and kNN PCA:</b></u><br\\>\n",
    "        Based on the above, kNN without PCA which took in 13 features and kNN with PCA which only took in 4 features to train and test the model. The difference between the F1 scores for kNN and kNN PCA is only 2.6%, which is, about 46 data points, relatively small. Furthermore, there is only one data point difference between the confusion matrix of kNN without PCA and kNN with PCA. Hence it can be considered statistically insignificant. <br\\><br\\>kNN with PCA have fewer features and data points, the model was still able to achieve similar performance. A smaller dataset with fewer features will lead to model leaning towards underfitting or more conservative. It's performance on another unseen test data will likely be similar to the exisiting test dataset and is more predictable. <br\\><br\\>In contrast, a higher number of features can lead to overfitting, where the model is too tailored to the raining data and may not generalize well to new data and could lead to model being less predictable.\n",
    "    </li>\n",
    "<br\\>\n",
    "    <li><u><b> Comparing between Decision Tree and Decision Tree PCA:</b></u><br\\>\n",
    "        Based on the above, F1 score of Decision Tree model with and without PCA, the Decision Tree without PCA performs better than the Decision Tree model with PCA. The model without PCA is 2.9% F1 score higher than model with PCA. This 2.9% difference is a significant difference as it takes up almost 10% of the total data points of the model with PCA. There is also one more correct prediction of data point in the confusion matrix for Decision Tree without PCA. <br\\><br\\> With PCA, there are fewer features and data points which could lead to model underfitting. Since the difference is statistically significant, it can lead to the model being inaccurate if Decision Tree with PCA is to be used.\n",
    "    </li>\n",
    "<br\\>\n",
    "    <li><u><b> Comparing between Naive Bayes and Naive Bayes PCA:</b></u><br\\>\n",
    "        The Naive Bayes PCA model stands out with perfect precision, recall, and F1 Score, as well as an additional data point in the confusion matrix. However, this perfect performance could indicate overfitting, especially considering the small size of the dataset.\n",
    "    </li>\n",
    "<br\\>\n",
    "    <li><u><b> Comparing between kNN, Decision Tree and Naive Bayes in general:</b></u><br\\>\n",
    "        Keeping in mind that the wine dataset is imbalanced, with 71 data points in Class 1 and 48 data points in Class 2, kNN and Decision Tree is a better model to cater to an imbalanced dataset. Both models are more scalable as both model has a hyper parameter to be found before training the data to get the most optimal prediction. Whilst, Naive Bayes algorithm is sensitive to imbalanced dataset as it is heavily reliant on the probabilities to make a prediction. When data points are not spread evenly across the classes in the dataset, the probabilities calculated by Naive Bayes may be skewed which will lead to inaccurate predictions. <i>[5]</i><br\\><br\\> On a different note, it is clearly shown that Naive Bayes with PCA is trained and tested for 100% prediction. Therefore, it can be proven that PCA is one of the prominent preprocessing solution to improve the classifier performance (e.g. imbalanced dataset). <i>[6]</i>\n",
    "    </li>\n",
    "</ol>"
   ]
  },
  {
   "cell_type": "markdown",
   "metadata": {},
   "source": [
    "# 7. Conclusion"
   ]
  },
  {
   "cell_type": "markdown",
   "metadata": {},
   "source": [
    "<p>In conclusion, <b>kNN without PCA is the most optimal classification machine learning model</b> among K-Nearest Neighbors (kNN), Decision Tree, and Naive Bayes for scikit-learn Wine dataset. Considering the provided metrics and potential concerns about overfitting, I would choose the kNN model without PCA as the best algorithm for the wine dataset. It achieves a good balance between precision, recall, and F1 Score. Additionally, kNN tends to be robust and effective in various scenarios.</p>"
   ]
  },
  {
   "cell_type": "markdown",
   "metadata": {},
   "source": [
    "# 8. References"
   ]
  },
  {
   "cell_type": "markdown",
   "metadata": {},
   "source": [
    "<p>[1]: Kumar Aditya. 2020. KNN Algorithm: When? Why? How? https://towardsdatascience.com/knn-algorithm-what-when-why-how-41405c16c36f <br\\></p>\n",
    "    \n",
    "<p>[2]: Mark Banoula. 2023. Understanding Naive Bayes Classifier. https://www.simplilearn.com/tutorials/machine-learning-tutorial/naive-bayes-classifier#:~:text=Advantages%20of%20Naive%20Bayes%20Classifier,-The%20following%20are&text=It%20doesn't%20require%20as,to%20make%20real%2Dtime%20predictions<br\\></p>\n",
    "    \n",
    "<p>[3]: Yugesh Verma. 2021. Why Data Scaling is important in Machine Learning & How to effectively do it. https://analyticsindiamag.com/why-data-scaling-is-important-in-machine-learning-how-to-effectively-do-it/<br\\></p>\n",
    "    \n",
    "<p>[4]:Beavers, Amy S.; John W. Lounsbury, Jennifer K. Richards, Schuyler W. Huck, Gary J. Skolits, and\n",
    "Shelley L. Esquivel. 2013. Practical considerations for using exploratory factor analysis in\n",
    "educational research. Practical Assessment, Research and Evaluation .https://scholarworks.umass.edu/cgi/viewcontent.cgi?article=1303&context=pare<br\\></p>\n",
    "    \n",
    "<p>[5]:Charan H U. 2022. Naive Bayes algorithm. https://charanhu.medium.com/naive-bayes-algorithm-2a9415e21034<br\\></p>\n",
    "    \n",
    "<p>[6]: T. Maruthi Padmaja, Bapi S. Raju, Rudra N. Hota, P. Radha Krishna. 2014. Class imbalance and its effect on PCA preprocessing. https://dl.acm.org/doi/10.1504/IJKESDP.2014.064265#:~:text=Among%20all%2C%20resampling%20solutions%20which,to%20improve%20the%20classifier%20performance.</p>"
   ]
  }
 ],
 "metadata": {
  "kernelspec": {
   "display_name": "Python 3",
   "language": "python",
   "name": "python3"
  },
  "language_info": {
   "codemirror_mode": {
    "name": "ipython",
    "version": 3
   },
   "file_extension": ".py",
   "mimetype": "text/x-python",
   "name": "python",
   "nbconvert_exporter": "python",
   "pygments_lexer": "ipython3",
   "version": "3.7.6"
  }
 },
 "nbformat": 4,
 "nbformat_minor": 4
}
